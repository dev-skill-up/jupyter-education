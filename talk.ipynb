{
 "cells": [
  {
   "cell_type": "markdown",
   "metadata": {},
   "source": [
    "```{=latex}\n",
    "\\usepackage{hyperref}\n",
    "\\usepackage{graphicx}\n",
    "\\usepackage{listings}\n",
    "\\usepackage{textcomp}\n",
    "\\usepackage{fancyvrb}\n",
    "\n",
    "\\newcommand{\\passthrough}[1]{\\lstset{mathescape=false}#1\\lstset{mathescape=true}}\n",
    "\\newcommand{\\tightlist}{}\n",
    "```"
   ]
  },
  {
   "cell_type": "markdown",
   "metadata": {},
   "source": [
    "```{=latex}\n",
    "\\title{Jupyter for Education}\n",
    "\\author{Moshe Zadka -- https://cobordism.com}\n",
    "\\date{}\n",
    "\n",
    "\\begin{document}\n",
    "\\begin{titlepage}\n",
    "\\maketitle\n",
    "\\end{titlepage}\n",
    "\n",
    "\\frame{\\titlepage}\n",
    "```"
   ]
  },
  {
   "cell_type": "markdown",
   "metadata": {
    "tags": []
   },
   "source": [
    "```{=latex}\n",
    "\\begin{frame}\n",
    "\\frametitle{Acknowledgement of Country}\n",
    "\n",
    "Hayward (in the San Francisco Bay Area)\n",
    "\n",
    "Ancestral homeland of the Ohlone people\n",
    "\n",
    "\\end{frame}\n",
    "```"
   ]
  },
  {
   "cell_type": "markdown",
   "metadata": {
    "tags": []
   },
   "source": [
    "I live in Hayward,\n",
    "in the San Francisco Bay Area Peninsula.\n",
    "I wish to acknowledge it as the\n",
    "ancestral homeland\n",
    "of the\n",
    "Ohlone people."
   ]
  },
  {
   "cell_type": "markdown",
   "metadata": {
    "tags": []
   },
   "source": [
    "# Introduction"
   ]
  },
  {
   "cell_type": "markdown",
   "metadata": {
    "tags": []
   },
   "source": [
    "## What is Jupyter?"
   ]
  },
  {
   "cell_type": "markdown",
   "metadata": {
    "tags": []
   },
   "source": [
    "```{=latex}\n",
    "\\begin{frame}\n",
    "\\frametitle{What is Jupyter?}\n",
    "\n",
    "\\pause\n",
    "\n",
    "Notebook\\pause\n",
    "\n",
    "Kernel\\pause\n",
    "\n",
    "Cells\\pause\n",
    "\n",
    "Markdown\n",
    "\n",
    "\\end{frame}\n",
    "```"
   ]
  },
  {
   "cell_type": "markdown",
   "metadata": {
    "tags": []
   },
   "source": [
    "Before discussing how to use Jupyter,\n",
    "it's good to have a baseline understanding\n",
    "of what it is.\n",
    "Jupyter is a service that\n",
    "(mainly)\n",
    "helps you work with\n",
    "*notebooks*.\n",
    "Notebooks are connected to a\n",
    "*kernel*,\n",
    "which can execute code.\n",
    "Kernels represent language and\n",
    "execution environment.\n",
    "\n",
    "The notebook is made of\n",
    "*cells*.\n",
    "Executable cells are executed by the kernel,\n",
    "and the value returned from the kernel\n",
    "is rendered to the cell's output in the notebook.\n",
    "Notebooks also support\n",
    "*markdown*\n",
    "cells\n",
    "that serve as documentation or explanation."
   ]
  },
  {
   "cell_type": "markdown",
   "metadata": {},
   "source": [
    "## Jupyter: Existing usage"
   ]
  },
  {
   "cell_type": "markdown",
   "metadata": {
    "tags": []
   },
   "source": [
    "```{=latex}\n",
    "\\begin{frame}\n",
    "\\frametitle{What is Jupyter for?}\n",
    "\n",
    "\\pause\n",
    "Exploration\\pause\n",
    "\n",
    "Sharing\n",
    "\n",
    "\\end{frame}\n",
    "```\n",
    "\n",
    "Jupyter was made,\n",
    "and exists,\n",
    "mainly,\n",
    "as something to support\n",
    "exploratory programming\n",
    "and,\n",
    "then,\n",
    "sharing the conclusion.\n"
   ]
  },
  {
   "cell_type": "markdown",
   "metadata": {},
   "source": [
    "## Jupyter Installation"
   ]
  },
  {
   "cell_type": "markdown",
   "metadata": {
    "tags": []
   },
   "source": [
    "```{=latex}\n",
    "\\begin{frame}\n",
    "\\frametitle{Jupyter Installation}\n",
    "\n",
    "\\pause Local\n",
    "\n",
    "\\pause Remote\n",
    "\n",
    "\\pause Or...\n",
    "\n",
    "\\end{frame}\n",
    "```\n",
    "\n",
    "Jupyter can be installed in several ways.\n",
    "It can be installed on the local computer.\n",
    "Depending on the local OS and user prefences,\n",
    "this can be\n",
    "DMG,\n",
    "flatpak,\n",
    "using brew,\n",
    "and other methods.\n",
    "The main problem with local installation\n",
    "is that computer OS configurations are diverse.\n",
    "\n",
    "Around half of the students will follow the instructions\n",
    "and get it up and running.\n",
    "Around a quarter will be able to use the troubleshooting\n",
    "instructions to overcome the problem.\n",
    "Another tenth will be able to follow the\n",
    "\"advanced\"\n",
    "troubleshooting instructions...\n",
    "\n",
    "Finally,\n",
    "there'll be a hundredth which still don't have access to Jupyter\n",
    "locally.\n",
    "Getting there requires tens of hours in fine-tuning instructions\n",
    "for installation and troubleshooting.\n",
    "\n",
    "Remote installation is fine,\n",
    "since Jupyter is accessed through the browser.\n"
   ]
  },
  {
   "cell_type": "markdown",
   "metadata": {},
   "source": [
    "## JupyterLite"
   ]
  },
  {
   "cell_type": "markdown",
   "metadata": {
    "tags": []
   },
   "source": [
    "```{=latex}\n",
    "\\begin{frame}\n",
    "\\frametitle{JupyterLite}\n",
    "\n",
    "\\pause In the browser...\n",
    "\n",
    "\\pause Some limitations\n",
    "\n",
    "\\end{frame}\n",
    "```\n",
    "\n",
    "The last option is JupyterLite.\n",
    "JupyterLite runs all of Jupyter,\n",
    "including the kernel,\n",
    "in the browser.\n",
    "This means installation is easy!\n",
    "\n",
    "So,\n",
    "what is the problem?\n",
    "JupyterLite runs inside the browser,\n",
    "which is a weird execution environment.\n",
    "There are no TCP connections,\n",
    "only web sockets.\n",
    "There are no processes,\n",
    "only web workers.\n",
    "Native binary wheels,\n",
    "in general,\n",
    "cannot be installed.\n",
    "\n",
    "If your use case is a good match for the limitations\n",
    "of JupyterLite,\n",
    "this is great!\n",
    "Make sure to try it out first before making assumptions."
   ]
  },
  {
   "cell_type": "markdown",
   "metadata": {},
   "source": [
    "# Modern teaching"
   ]
  },
  {
   "cell_type": "markdown",
   "metadata": {
    "tags": []
   },
   "source": [
    "```{=latex}\n",
    "\\begin{frame}\n",
    "\\frametitle{Teaching}\n",
    "\n",
    "\\pause A new world...\n",
    "\n",
    "\\end{frame}\n",
    "```\n",
    "\n",
    "I am not,\n",
    "and have never been,\n",
    "a full time teacher.\n",
    "As such,\n",
    "this section is not about\n",
    "\"teaching\"\n",
    "in the abstract:\n",
    "it is there to establish context.\n",
    "\n",
    "I do not have a time machine.\n",
    "Any information you take from the talk\n",
    "will only be useful to you in the future,\n",
    "when you develop lesson plans and\n",
    "other resources.\n",
    "\n",
    "What does teaching look like in the mid\n",
    "2020s?"
   ]
  },
  {
   "cell_type": "markdown",
   "metadata": {},
   "source": [
    "## A hybrid world"
   ]
  },
  {
   "cell_type": "markdown",
   "metadata": {
    "tags": []
   },
   "source": [
    "```{=latex}\n",
    "\\begin{frame}\n",
    "\\frametitle{Hybrid world}\n",
    "\n",
    "\\pause In-person\n",
    "\n",
    "\\pause Remotely\n",
    "\n",
    "\\pause Self-paced\n",
    "\n",
    "\\end{frame}\n",
    "```\n",
    "\n",
    "Traditionally,\n",
    "for millenia of human history,\n",
    "teaching has been an in-person\n",
    "affair.\n",
    "People would come together in close proximity\n",
    "to teach and learn.\n",
    "\n",
    "Remote teaching is pretty old:\n",
    "as old as radio and telegraph.\n",
    "But for a year in 2020,\n",
    "remote teaching was,\n",
    "pretty much,\n",
    "all we had.\n",
    "Everyone was remote all the time.\n",
    "\n",
    "Things have changed,\n",
    "but they did not\n",
    "\"go back\".\n",
    "We live,\n",
    "and will live in the forseeable future,\n",
    "in a\n",
    "\"hybrid world\".\n",
    "Even if you are teaching fully in person\n",
    "or fully remote,\n",
    "chances are you will collaborate with someone\n",
    "who does the opposite.\n",
    "More likely,\n",
    "some of your teaching will be in-person\n",
    "and some will be remote:\n",
    "maybe at the same time,\n",
    "and maybe not.\n",
    "\n",
    "In both modes of teaching,\n",
    "we also have students doing\n",
    "some\n",
    "\"self-paced\"\n",
    "learning.\n",
    "Self-paced learning is a general term:\n",
    "it includes formal education's\n",
    "homework\n",
    "and tests,\n",
    "as well as\n",
    "or teacher-assigned\n",
    "in-class\n",
    "study.\n",
    "\n",
    "When thinking of developing resources,\n",
    "it is important to consider all three modes.\n",
    "Sometimes,\n",
    "specific parts need to move,\n",
    "or be copied,\n",
    "from one to the other."
   ]
  },
  {
   "cell_type": "markdown",
   "metadata": {},
   "source": [
    "## Text"
   ]
  },
  {
   "cell_type": "markdown",
   "metadata": {
    "tags": []
   },
   "source": [
    "```{=latex}\n",
    "\\begin{frame}\n",
    "\\frametitle{Share text}\n",
    "\n",
    "\\pause Contents\n",
    "\n",
    "\\pause Formatting\n",
    "\n",
    "\\end{frame}\n",
    "```\n",
    "\n",
    "One important part of teaching is presenting text.\n",
    "Whether it is a teacher writing on the blackboard\n",
    "or an instructor projecting text on a screen,\n",
    "the written word is useful.\n",
    "Even if the advice is to\n",
    "*minimize*\n",
    "text displayed,\n",
    "it is rarely to eliminate it altogether."
   ]
  },
  {
   "cell_type": "markdown",
   "metadata": {},
   "source": [
    "## Visuals"
   ]
  },
  {
   "cell_type": "code",
   "execution_count": 99,
   "metadata": {},
   "outputs": [],
   "source": [
    "from PIL import ImageFont, ImageDraw, Image\n",
    "\n",
    "image = Image.new(\"RGB\", (500, 200), color=(255,255,255))\n",
    "draw = ImageDraw.Draw(image)\n",
    "font = ImageFont.truetype(\"static/DancingScript-Regular.ttf\", 50)\n",
    "small = ImageFont.truetype(\"static/DancingScript-Regular.ttf\", 10)\n",
    "medium = ImageFont.truetype(\"static/DancingScript-Regular.ttf\", 20)\n",
    "tiny = ImageFont.truetype(\"static/DancingScript-Regular.ttf\", 5)\n",
    "draw.text((10, 10), \"Worth a...\", font=font, fill=(0,0,0))\n",
    "for i in range(10):\n",
    "    draw.text((i*45, 55), \"word\", font=medium, fill=(0,0,0))    \n",
    "for i in range(300):\n",
    "    x, y = divmod(i, 50)\n",
    "    draw.text((y*25, 75+x*10), \"word\", font=small, fill=(0,0,0))\n",
    "for i in range(700):\n",
    "    x, y = divmod(i, 50)\n",
    "    draw.text((y*15, 135+x*7), \"word\", font=tiny, fill=(0,0,0))"
   ]
  },
  {
   "cell_type": "markdown",
   "metadata": {
    "tags": []
   },
   "source": [
    "```{=latex}\n",
    "\\begin{frame}[fragile]\n",
    "\\frametitle{Visuals}\n",
    "\n",
    "\\pause A thousand words...\n",
    "```"
   ]
  },
  {
   "cell_type": "code",
   "execution_count": 100,
   "metadata": {},
   "outputs": [
    {
     "data": {
      "image/jpeg": "[encoded data removed]",
      "image/png": "[encoded data removed]",
      "text/plain": [
       "<PIL.Image.Image image mode=RGB size=500x200>"
      ]
     },
     "execution_count": 100,
     "metadata": {},
     "output_type": "execute_result"
    }
   ],
   "source": [
    "image"
   ]
  },
  {
   "cell_type": "markdown",
   "metadata": {
    "tags": []
   },
   "source": [
    "```{=latex}\n",
    "\\end{frame}\n",
    "```"
   ]
  },
  {
   "cell_type": "markdown",
   "metadata": {},
   "source": [
    "\"Visual aids\"\n",
    "is an important concept of teaching.\n",
    "A picture might not be worth a thousand words,\n",
    "but it is a good anchor for humans,\n",
    "who are visual creatures.\n",
    "Graphs, diagrams, photographs,\n",
    "and other things\n",
    "are all useful to show students\n",
    "and anchor their attention."
   ]
  },
  {
   "cell_type": "markdown",
   "metadata": {},
   "source": [
    "## Interactivity"
   ]
  },
  {
   "cell_type": "code",
   "execution_count": 108,
   "metadata": {},
   "outputs": [],
   "source": [
    "from ipywidgets import IntSlider"
   ]
  },
  {
   "cell_type": "code",
   "execution_count": 168,
   "metadata": {},
   "outputs": [],
   "source": [
    "slider = IntSlider(min=2, max=10)"
   ]
  },
  {
   "cell_type": "code",
   "execution_count": 170,
   "metadata": {
    "tags": []
   },
   "outputs": [
    {
     "data": {
      "application/vnd.jupyter.widget-view+json": {
       "model_id": "3c3837a50ee743dd9eb780a8b67205ec",
       "version_major": 2,
       "version_minor": 0
      },
      "text/plain": [
       "IntSlider(value=4, max=10, min=2)"
      ]
     },
     "execution_count": 170,
     "metadata": {},
     "output_type": "execute_result"
    }
   ],
   "source": [
    "slider"
   ]
  },
  {
   "cell_type": "code",
   "execution_count": 164,
   "metadata": {},
   "outputs": [],
   "source": [
    "slider_img = Image.open(\"slider-1.png\").convert(\"RGB\")\n",
    "x, y = slider_img.size\n",
    "slider_img = slider_img.resize((x//4, y//4))"
   ]
  },
  {
   "cell_type": "code",
   "execution_count": 167,
   "metadata": {},
   "outputs": [],
   "source": [
    "def draw_sample(value):\n",
    "    image = Image.new(\"RGB\", (200, 100), color=(255,255,255))\n",
    "    draw = ImageDraw.Draw(image)\n",
    "    font = ImageFont.truetype(\"static/DancingScript-Regular.ttf\", \n",
    "                              10 * slider.value)\n",
    "    draw.text((10, 10), \"Sample\", font=font, fill=(0,0,0))\n",
    "    return image"
   ]
  },
  {
   "cell_type": "markdown",
   "metadata": {
    "tags": []
   },
   "source": [
    "```{=latex}\n",
    "\\begin{frame}[fragile]\n",
    "\\frametitle{Interactivity...}\n",
    "\n",
    "\\pause Change the inputs...\n",
    "\\pause\n",
    "```"
   ]
  },
  {
   "cell_type": "code",
   "execution_count": 166,
   "metadata": {},
   "outputs": [
    {
     "data": {
      "image/jpeg": "[encoded data removed]",
      "image/png": "[encoded data removed]",
      "text/plain": [
       "<PIL.Image.Image image mode=RGB size=175x20>"
      ]
     },
     "execution_count": 166,
     "metadata": {},
     "output_type": "execute_result"
    }
   ],
   "source": [
    "slider_img"
   ]
  },
  {
   "cell_type": "code",
   "execution_count": 171,
   "metadata": {},
   "outputs": [
    {
     "data": {
      "image/jpeg": "[encoded data removed]",
      "image/png": "[encoded data removed]",
      "text/plain": [
       "<PIL.Image.Image image mode=RGB size=200x100>"
      ]
     },
     "execution_count": 171,
     "metadata": {},
     "output_type": "execute_result"
    }
   ],
   "source": [
    "draw_sample(slider.value)"
   ]
  },
  {
   "cell_type": "markdown",
   "metadata": {
    "tags": []
   },
   "source": [
    "```{=latex}\n",
    "\\end{frame}\n",
    "```"
   ]
  },
  {
   "cell_type": "code",
   "execution_count": 172,
   "metadata": {
    "tags": []
   },
   "outputs": [],
   "source": [
    "slider = IntSlider(min=2, max=10)"
   ]
  },
  {
   "cell_type": "code",
   "execution_count": 173,
   "metadata": {},
   "outputs": [
    {
     "data": {
      "application/vnd.jupyter.widget-view+json": {
       "model_id": "b48c32e7139b4424bb9432de8265d01c",
       "version_major": 2,
       "version_minor": 0
      },
      "text/plain": [
       "IntSlider(value=2, max=10, min=2)"
      ]
     },
     "execution_count": 173,
     "metadata": {},
     "output_type": "execute_result"
    }
   ],
   "source": [
    "slider"
   ]
  },
  {
   "cell_type": "code",
   "execution_count": 174,
   "metadata": {},
   "outputs": [],
   "source": [
    "slider_img = Image.open(\"slider-2.png\").convert(\"RGB\")\n",
    "x, y = slider_img.size\n",
    "slider_img = slider_img.resize((x//4, y//4))"
   ]
  },
  {
   "cell_type": "markdown",
   "metadata": {
    "tags": []
   },
   "source": [
    "```{=latex}\n",
    "\\begin{frame}[fragile]\n",
    "\\frametitle{Interactivity...}\n",
    "\n",
    "\\pause ...see the new outputs\n",
    "\\pause\n",
    "```"
   ]
  },
  {
   "cell_type": "code",
   "execution_count": 161,
   "metadata": {},
   "outputs": [
    {
     "data": {
      "image/jpeg": "[encoded data removed]",
      "image/png": "[encoded data removed]",
      "text/plain": [
       "<PIL.Image.Image image mode=RGB size=177x21>"
      ]
     },
     "execution_count": 161,
     "metadata": {},
     "output_type": "execute_result"
    }
   ],
   "source": [
    "slider_img"
   ]
  },
  {
   "cell_type": "code",
   "execution_count": 175,
   "metadata": {},
   "outputs": [
    {
     "data": {
      "image/jpeg": "[encoded data removed]",
      "image/png": "[encoded data removed]",
      "text/plain": [
       "<PIL.Image.Image image mode=RGB size=200x100>"
      ]
     },
     "execution_count": 175,
     "metadata": {},
     "output_type": "execute_result"
    }
   ],
   "source": [
    "draw_sample(slider.value)"
   ]
  },
  {
   "cell_type": "markdown",
   "metadata": {
    "tags": []
   },
   "source": [
    "```{=latex}\n",
    "\\end{frame}\n",
    "```"
   ]
  },
  {
   "cell_type": "markdown",
   "metadata": {},
   "source": [
    "Finally,\n",
    "from the beginning of teaching,\n",
    "some level of interaction was considered crucial.\n",
    "Students need to engage with the material\n",
    "in some way:\n",
    "see how different inputs lead to different results.\n",
    "This is considered a great way to teach,\n",
    "because it is even better at focusing attention\n",
    "on specific actions."
   ]
  },
  {
   "cell_type": "markdown",
   "metadata": {},
   "source": [
    "# Frontal teaching"
   ]
  },
  {
   "cell_type": "markdown",
   "metadata": {},
   "source": [
    "## Convert"
   ]
  },
  {
   "cell_type": "markdown",
   "metadata": {
    "tags": []
   },
   "source": [
    "```{=latex}\n",
    "\\begin{frame}\n",
    "\\frametitle{Convert for presentations}\n",
    "\n",
    "\\pause HTML\n",
    "\n",
    "\\pause PDF\n",
    "\n",
    "\\pause Slides\n",
    "\n",
    "\\end{frame}\n",
    "```"
   ]
  },
  {
   "cell_type": "markdown",
   "metadata": {},
   "source": [
    "When doing frontal teaching,\n",
    "the notebook is often not optimized for displaying directly to the class.\n",
    "Luckily,\n",
    "Jupyter notebooks can be converted to many formats.\n",
    "HTML, PDF,\n",
    "and slide decks are all supported natively by the creation tools,\n",
    "accessible directly from the UI."
   ]
  },
  {
   "cell_type": "markdown",
   "metadata": {},
   "source": [
    "## Conversion fine-tuning"
   ]
  },
  {
   "cell_type": "markdown",
   "metadata": {
    "tags": []
   },
   "source": [
    "```{=latex}\n",
    "\\begin{frame}\n",
    "\\frametitle{nbconvert}\n",
    "\n",
    "\\pause Hide cells\n",
    "\n",
    "\\pause Hide cell output\n",
    "\n",
    "\\pause Hide cell input\n",
    "\n",
    "\\end{frame}\n",
    "```"
   ]
  },
  {
   "cell_type": "markdown",
   "metadata": {},
   "source": [
    "The UI conversion if backed by the\n",
    "`nbconvert`\n",
    "utility.\n",
    "Running this utlitity form the command-line gives even more options.\n",
    "As the simplest example,\n",
    "this allows hiding some cells completely\n",
    "(simplifiyng the pedagogic value),\n",
    "hiding the output of the cell\n",
    "(useful when functions called for their side-effects return values)\n",
    "and hiding cell input\n",
    "(so the result of the calculation can be shown without distracting\n",
    "by the actual details of the computation)."
   ]
  },
  {
   "cell_type": "markdown",
   "metadata": {},
   "source": [
    "## Pipeline"
   ]
  },
  {
   "cell_type": "markdown",
   "metadata": {
    "tags": []
   },
   "source": [
    "```{=latex}\n",
    "\\begin{frame}\n",
    "\\frametitle{Conversion pipeline}\n",
    "\n",
    "\\pause To Markdown...\n",
    "\n",
    "\\pause ...then pandoc\n",
    "\n",
    "\\end{frame}\n",
    "```"
   ]
  },
  {
   "cell_type": "markdown",
   "metadata": {},
   "source": [
    "For even more sophisticated conversion,\n",
    "use nbconvert to convert to markdown,\n",
    "and then pandoc for conversion to the final output format.\n",
    "This powerful technique allows even more customization.\n",
    "For example,\n",
    "this is basically how this presentation was generated,\n",
    "using the Python package\n",
    "[ides](https://github.com/moshez/ides)."
   ]
  },
  {
   "cell_type": "markdown",
   "metadata": {},
   "source": [
    "## Collaboration"
   ]
  },
  {
   "cell_type": "markdown",
   "metadata": {
    "tags": []
   },
   "source": [
    "```{=latex}\n",
    "\\begin{frame}\n",
    "\\frametitle{Source-control friendly}\n",
    "\n",
    "\\pause JSON\n",
    "\n",
    "\\pause Merges can be unpleasant\n",
    "\n",
    "\\end{frame}\n",
    "```"
   ]
  },
  {
   "cell_type": "markdown",
   "metadata": {},
   "source": [
    "I don't want to oversell here.\n",
    "Compared to,\n",
    "say,\n",
    "Python source code,\n",
    "notebooks can have challenges with source control.\n",
    "Spurious diffs generated by having the notebook\n",
    "include the numeric index of each output operation\n",
    "can make for an annoying diff to resolve.\n",
    "\n",
    "In this context,\n",
    "it is important to compare to the baseline of developing\n",
    "teaching resources in something like Keynote.\n",
    "As a JSON file with some attention to how it is rendered\n",
    "as line,\n",
    "the diffs will be at least partially usefl."
   ]
  },
  {
   "cell_type": "markdown",
   "metadata": {},
   "source": [
    "If this does become a bottelneck,\n",
    "some\n",
    "pre-commit-based tricks\n",
    "can be used to reduce that."
   ]
  },
  {
   "cell_type": "markdown",
   "metadata": {},
   "source": [
    "# Independent work"
   ]
  },
  {
   "cell_type": "markdown",
   "metadata": {},
   "source": [
    "## Sharing"
   ]
  },
  {
   "cell_type": "markdown",
   "metadata": {
    "tags": []
   },
   "source": [
    "```{=latex}\n",
    "\\begin{frame}\n",
    "\\frametitle{Sharing}\n",
    "\n",
    "\\pause Supported in Source Collaboration\n",
    "\n",
    "\\pause Automatically rendered\n",
    "\n",
    "\\end{frame}\n",
    "```"
   ]
  },
  {
   "cell_type": "markdown",
   "metadata": {},
   "source": [
    "Notebooks are rendered automatically\n",
    "in most popular source collaboration\n",
    "platforms\n",
    "like GitHub or GitLab.\n",
    "This means even before a student downloading a notebook,\n",
    "they can read it as a static presentation.\n",
    "For example,\n",
    "this helps people make sure they download the right notebook.`"
   ]
  },
  {
   "cell_type": "markdown",
   "metadata": {},
   "source": [
    "## Reading materials"
   ]
  },
  {
   "cell_type": "markdown",
   "metadata": {
    "tags": []
   },
   "source": [
    "```{=latex}\n",
    "\\begin{frame}\n",
    "\\frametitle{Reading}\n",
    "\n",
    "\\pause Inline cells\n",
    "\n",
    "\\pause Code rendering\n",
    "\n",
    "\\pause Widgets acknowledging\n",
    "\n",
    "\\end{frame}\n",
    "```"
   ]
  },
  {
   "cell_type": "markdown",
   "metadata": {},
   "source": [
    "For self-paced\n",
    "reading materials,\n",
    "there are a few options.\n",
    "Text can be written in Markdown cells\n",
    "using Markdown formatting\n",
    "for a student to read.\n",
    "\n",
    "Cells can also generate HTML-displayable content\n",
    "that is rendered in the output.\n",
    "This can include fetching from an API\n",
    "or calculating the text from several\n",
    "resources.\n",
    "\n",
    "You can also add widgets acknowledging the student has read a section.\n",
    "This can include a short checkbox\n",
    "or more sophisticated things\n",
    "like a multiple choice question\n",
    "(\"I agree with the point being made...Yes/No/Maybe\")\n",
    "or even a text prompt\n",
    "(\"Explain the main themes of this paragraph\").\n",
    "This helps students focus their attention\n",
    "and,\n",
    "maybe,\n",
    "re-read a section if they realize they need to understand it further."
   ]
  },
  {
   "cell_type": "markdown",
   "metadata": {},
   "source": [
    "## Setting up exercises"
   ]
  },
  {
   "cell_type": "markdown",
   "metadata": {
    "tags": []
   },
   "source": [
    "```{=latex}\n",
    "\\begin{frame}\n",
    "\\frametitle{Exercise}\n",
    "\n",
    "\\pause Cells to be filled\n",
    "\n",
    "\\pause Widgets\n",
    "\n",
    "\\end{frame}\n",
    "```\n",
    "\n",
    "Exercises can use cells which need to be filled by the student\n",
    "or\n",
    "a widget.\n",
    "The option sometimes hinges on which affordance will feel the best\n",
    "for a group of "
   ]
  },
  {
   "cell_type": "markdown",
   "metadata": {},
   "source": [
    "## Student verification"
   ]
  },
  {
   "cell_type": "markdown",
   "metadata": {
    "tags": []
   },
   "source": [
    "```{=latex}\n",
    "\\begin{frame}\n",
    "\\frametitle{Verification}\n",
    "\n",
    "\\pause Machine-checkable\n",
    "\n",
    "\\pause Multiple choice\n",
    "\n",
    "\\end{frame}\n",
    "```"
   ]
  },
  {
   "cell_type": "markdown",
   "metadata": {},
   "source": [
    "## Teacher feedback"
   ]
  },
  {
   "cell_type": "markdown",
   "metadata": {
    "tags": []
   },
   "source": [
    "```{=latex}\n",
    "\\begin{frame}\n",
    "\\frametitle{Teacher feedback}\n",
    "\n",
    "\\pause Submit notebook\n",
    "\n",
    "\\pause Inline submission through API\n",
    "\n",
    "\\end{frame}\n",
    "```"
   ]
  },
  {
   "cell_type": "markdown",
   "metadata": {},
   "source": [
    "# Summary"
   ]
  },
  {
   "cell_type": "markdown",
   "metadata": {},
   "source": [
    "## Limitations"
   ]
  },
  {
   "cell_type": "markdown",
   "metadata": {
    "tags": []
   },
   "source": [
    "```{=latex}\n",
    "\\begin{frame}\n",
    "\\frametitle{Limitations}\n",
    "\n",
    "\\pause Server set-up non-trivial\n",
    "\n",
    "\\pause JupyterLite still limited\n",
    "\n",
    "\\end{frame}\n",
    "```"
   ]
  },
  {
   "cell_type": "markdown",
   "metadata": {},
   "source": [
    "## Advantages"
   ]
  },
  {
   "cell_type": "markdown",
   "metadata": {
    "tags": []
   },
   "source": [
    "```{=latex}\n",
    "\\begin{frame}\n",
    "\\frametitle{Advantages}\n",
    "\n",
    "\\pause Powerful tooling\n",
    "\n",
    "\\pause Evolving ecosystem\n",
    "\n",
    "\\end{frame}\n",
    "```"
   ]
  },
  {
   "cell_type": "markdown",
   "metadata": {},
   "source": [
    "## Iterating"
   ]
  },
  {
   "cell_type": "markdown",
   "metadata": {
    "tags": []
   },
   "source": [
    "```{=latex}\n",
    "\\begin{frame}\n",
    "\\frametitle{Early days}\n",
    "\n",
    "\\pause Make mistakes\n",
    "\n",
    "\\pause Learn\n",
    "\n",
    "\\pause Share\n",
    "\n",
    "\\pause Do better\n",
    "\n",
    "\\end{frame}\n",
    "```"
   ]
  },
  {
   "cell_type": "markdown",
   "metadata": {},
   "source": [
    "## Call to action"
   ]
  },
  {
   "cell_type": "markdown",
   "metadata": {
    "tags": []
   },
   "source": [
    "```{=latex}\n",
    "\\begin{frame}\n",
    "\\frametitle{Jupyter: Teaching for 2020s}\n",
    "\n",
    "\\pause More visual\n",
    "\n",
    "\\pause More interactive\n",
    "\n",
    "\\pause Powerful flows\n",
    "\n",
    "\\end{frame}\n",
    "```"
   ]
  },
  {
   "cell_type": "markdown",
   "metadata": {},
   "source": [
    "```{=latex}\n",
    "\\end{document}\n",
    "```"
   ]
  }
 ],
 "metadata": {
  "kernelspec": {
   "display_name": "seashore",
   "language": "python",
   "name": "seashore-venv"
  },
  "language_info": {
   "codemirror_mode": {
    "name": "ipython",
    "version": 3
   },
   "file_extension": ".py",
   "mimetype": "text/x-python",
   "name": "python",
   "nbconvert_exporter": "python",
   "pygments_lexer": "ipython3",
   "version": "3.10.7"
  },
  "toc-autonumbering": false
 },
 "nbformat": 4,
 "nbformat_minor": 4
}
